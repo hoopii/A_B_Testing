{
 "cells": [
  {
   "cell_type": "markdown",
   "metadata": {
    "id": "QEsXSKV_YtUa"
   },
   "source": [
    "## A / B Testing: Chi-2 with Montana Library case study\n",
    "\n",
    "In this notebook we perform a Chi square test with data from the Library of Montana University case study, applying a post-hoc correction to perform pairwise tests and find the true winner. \n",
    "Scipy approach.\n",
    "\n",
    "We structure the steps by answering three questions: \n",
    "1.   What was the click-through rate for each version?\n",
    "2.   Which version was the winner?\n",
    "3.   Do the results seem conclusive?\n"
   ]
  },
  {
   "cell_type": "markdown",
   "metadata": {},
   "source": [
    "### load libraries and data: "
   ]
  },
  {
   "cell_type": "code",
   "execution_count": 1,
   "metadata": {
    "id": "ZDK8qizkndh7"
   },
   "outputs": [],
   "source": [
    "import numpy as np\n",
    "import pandas as pd\n",
    "#numpy.set_printoptions(suppress=True)\n",
    "pd.set_option(\"max_colwidth\", 1000)\n",
    "#pd.set_option(\"max_rows\", 1000)"
   ]
  },
  {
   "cell_type": "code",
   "execution_count": 2,
   "metadata": {},
   "outputs": [],
   "source": [
    "# Element list Homepage Version 1 - Interact, 5-29-2013.csv\n",
    "v1 = pd.read_csv(\"../data_crazy_egg/HomepageVersion1.csv\")\n",
    "\n",
    "# Element list Homepage Version 2 - Connect, 5-29-2013.csv\n",
    "v2 = pd.read_csv(\"../data_crazy_egg/HomepageVersion2.csv\")\n",
    "\n",
    "# Element list Homepage Version 3 - Learn, 5-29-2013.csv\n",
    "v3 = pd.read_csv(\"../data_crazy_egg/HomepageVersion3.csv\")\n",
    "\n",
    "# Element list Homepage Version 4 - Help, 5-29-2013.csv\n",
    "v4 = pd.read_csv(\"../data_crazy_egg/HomepageVersion4.csv\")\n",
    "\n",
    "# Element list Homepage Version 5 - Services, 5-29-2013.csv\n",
    "v5 = pd.read_csv(\"../data_crazy_egg/HomepageVersion5.csv\")"
   ]
  },
  {
   "cell_type": "markdown",
   "metadata": {},
   "source": [
    "### 1. What was the click-through rate for each version?"
   ]
  },
  {
   "cell_type": "code",
   "execution_count": 3,
   "metadata": {},
   "outputs": [
    {
     "data": {
      "text/html": [
       "<div>\n",
       "<style scoped>\n",
       "    .dataframe tbody tr th:only-of-type {\n",
       "        vertical-align: middle;\n",
       "    }\n",
       "\n",
       "    .dataframe tbody tr th {\n",
       "        vertical-align: top;\n",
       "    }\n",
       "\n",
       "    .dataframe thead th {\n",
       "        text-align: right;\n",
       "    }\n",
       "</style>\n",
       "<table border=\"1\" class=\"dataframe\">\n",
       "  <thead>\n",
       "    <tr style=\"text-align: right;\">\n",
       "      <th></th>\n",
       "      <th>Element ID</th>\n",
       "      <th>Tag name</th>\n",
       "      <th>Name</th>\n",
       "      <th>No. clicks</th>\n",
       "      <th>Visible?</th>\n",
       "      <th>Snapshot information</th>\n",
       "    </tr>\n",
       "  </thead>\n",
       "  <tbody>\n",
       "    <tr>\n",
       "      <th>0</th>\n",
       "      <td>69</td>\n",
       "      <td>a</td>\n",
       "      <td>FIND</td>\n",
       "      <td>397</td>\n",
       "      <td>True</td>\n",
       "      <td>Homepage Version 5 - Services   •   http://www.lib.montana.edu/index5.php</td>\n",
       "    </tr>\n",
       "    <tr>\n",
       "      <th>1</th>\n",
       "      <td>61</td>\n",
       "      <td>input</td>\n",
       "      <td>s.q</td>\n",
       "      <td>323</td>\n",
       "      <td>True</td>\n",
       "      <td>created 5-29-2013   •   20 days 4 hours 59 mins   •   2064 visits, 1348 clicks</td>\n",
       "    </tr>\n",
       "    <tr>\n",
       "      <th>2</th>\n",
       "      <td>67</td>\n",
       "      <td>a</td>\n",
       "      <td>lib.montana.edu/find/</td>\n",
       "      <td>106</td>\n",
       "      <td>True</td>\n",
       "      <td>NaN</td>\n",
       "    </tr>\n",
       "    <tr>\n",
       "      <th>3</th>\n",
       "      <td>62</td>\n",
       "      <td>button</td>\n",
       "      <td>Search</td>\n",
       "      <td>85</td>\n",
       "      <td>True</td>\n",
       "      <td>NaN</td>\n",
       "    </tr>\n",
       "    <tr>\n",
       "      <th>4</th>\n",
       "      <td>98</td>\n",
       "      <td>a</td>\n",
       "      <td>Hours</td>\n",
       "      <td>81</td>\n",
       "      <td>True</td>\n",
       "      <td>NaN</td>\n",
       "    </tr>\n",
       "    <tr>\n",
       "      <th>5</th>\n",
       "      <td>78</td>\n",
       "      <td>a</td>\n",
       "      <td>REQUEST</td>\n",
       "      <td>57</td>\n",
       "      <td>True</td>\n",
       "      <td>NaN</td>\n",
       "    </tr>\n",
       "    <tr>\n",
       "      <th>6</th>\n",
       "      <td>129</td>\n",
       "      <td>area</td>\n",
       "      <td>Montana State University - Home</td>\n",
       "      <td>49</td>\n",
       "      <td>False</td>\n",
       "      <td>NaN</td>\n",
       "    </tr>\n",
       "    <tr>\n",
       "      <th>7</th>\n",
       "      <td>87</td>\n",
       "      <td>a</td>\n",
       "      <td>SERVICES</td>\n",
       "      <td>45</td>\n",
       "      <td>True</td>\n",
       "      <td>NaN</td>\n",
       "    </tr>\n",
       "    <tr>\n",
       "      <th>8</th>\n",
       "      <td>96</td>\n",
       "      <td>a</td>\n",
       "      <td>News</td>\n",
       "      <td>24</td>\n",
       "      <td>True</td>\n",
       "      <td>NaN</td>\n",
       "    </tr>\n",
       "    <tr>\n",
       "      <th>9</th>\n",
       "      <td>76</td>\n",
       "      <td>a</td>\n",
       "      <td>lib.montana.edu/request/</td>\n",
       "      <td>22</td>\n",
       "      <td>True</td>\n",
       "      <td>NaN</td>\n",
       "    </tr>\n",
       "    <tr>\n",
       "      <th>10</th>\n",
       "      <td>64</td>\n",
       "      <td>a</td>\n",
       "      <td>Advanced Search</td>\n",
       "      <td>19</td>\n",
       "      <td>True</td>\n",
       "      <td>NaN</td>\n",
       "    </tr>\n",
       "    <tr>\n",
       "      <th>11</th>\n",
       "      <td>85</td>\n",
       "      <td>a</td>\n",
       "      <td>lib.montana.edu/interact/</td>\n",
       "      <td>18</td>\n",
       "      <td>True</td>\n",
       "      <td>NaN</td>\n",
       "    </tr>\n",
       "    <tr>\n",
       "      <th>12</th>\n",
       "      <td>30</td>\n",
       "      <td>a</td>\n",
       "      <td>slideshow-right</td>\n",
       "      <td>14</td>\n",
       "      <td>True</td>\n",
       "      <td>NaN</td>\n",
       "    </tr>\n",
       "    <tr>\n",
       "      <th>13</th>\n",
       "      <td>119</td>\n",
       "      <td>a</td>\n",
       "      <td>About MSU Library</td>\n",
       "      <td>9</td>\n",
       "      <td>True</td>\n",
       "      <td>NaN</td>\n",
       "    </tr>\n",
       "    <tr>\n",
       "      <th>14</th>\n",
       "      <td>50</td>\n",
       "      <td>span</td>\n",
       "      <td>nav-item-dot</td>\n",
       "      <td>8</td>\n",
       "      <td>True</td>\n",
       "      <td>NaN</td>\n",
       "    </tr>\n",
       "    <tr>\n",
       "      <th>15</th>\n",
       "      <td>115</td>\n",
       "      <td>a</td>\n",
       "      <td>YouTube</td>\n",
       "      <td>7</td>\n",
       "      <td>True</td>\n",
       "      <td>NaN</td>\n",
       "    </tr>\n",
       "    <tr>\n",
       "      <th>16</th>\n",
       "      <td>6</td>\n",
       "      <td>a</td>\n",
       "      <td>Ask A Librarian</td>\n",
       "      <td>6</td>\n",
       "      <td>True</td>\n",
       "      <td>NaN</td>\n",
       "    </tr>\n",
       "    <tr>\n",
       "      <th>17</th>\n",
       "      <td>122</td>\n",
       "      <td>a</td>\n",
       "      <td>Contact Us</td>\n",
       "      <td>6</td>\n",
       "      <td>True</td>\n",
       "      <td>NaN</td>\n",
       "    </tr>\n",
       "    <tr>\n",
       "      <th>18</th>\n",
       "      <td>40</td>\n",
       "      <td>a</td>\n",
       "      <td>nav-item</td>\n",
       "      <td>5</td>\n",
       "      <td>True</td>\n",
       "      <td>NaN</td>\n",
       "    </tr>\n",
       "    <tr>\n",
       "      <th>19</th>\n",
       "      <td>48</td>\n",
       "      <td>a</td>\n",
       "      <td>nav-item</td>\n",
       "      <td>5</td>\n",
       "      <td>True</td>\n",
       "      <td>NaN</td>\n",
       "    </tr>\n",
       "  </tbody>\n",
       "</table>\n",
       "</div>"
      ],
      "text/plain": [
       "    Element ID Tag name                             Name  No. clicks  \\\n",
       "0           69        a                             FIND         397   \n",
       "1           61    input                              s.q         323   \n",
       "2           67        a            lib.montana.edu/find/         106   \n",
       "3           62   button                           Search          85   \n",
       "4           98        a                            Hours          81   \n",
       "5           78        a                          REQUEST          57   \n",
       "6          129     area  Montana State University - Home          49   \n",
       "7           87        a                         SERVICES          45   \n",
       "8           96        a                             News          24   \n",
       "9           76        a         lib.montana.edu/request/          22   \n",
       "10          64        a                  Advanced Search          19   \n",
       "11          85        a        lib.montana.edu/interact/          18   \n",
       "12          30        a                  slideshow-right          14   \n",
       "13         119        a                About MSU Library           9   \n",
       "14          50     span                     nav-item-dot           8   \n",
       "15         115        a                          YouTube           7   \n",
       "16           6        a                  Ask A Librarian           6   \n",
       "17         122        a                       Contact Us           6   \n",
       "18          40        a                         nav-item           5   \n",
       "19          48        a                         nav-item           5   \n",
       "\n",
       "    Visible?  \\\n",
       "0       True   \n",
       "1       True   \n",
       "2       True   \n",
       "3       True   \n",
       "4       True   \n",
       "5       True   \n",
       "6      False   \n",
       "7       True   \n",
       "8       True   \n",
       "9       True   \n",
       "10      True   \n",
       "11      True   \n",
       "12      True   \n",
       "13      True   \n",
       "14      True   \n",
       "15      True   \n",
       "16      True   \n",
       "17      True   \n",
       "18      True   \n",
       "19      True   \n",
       "\n",
       "                                                              Snapshot information  \n",
       "0        Homepage Version 5 - Services   •   http://www.lib.montana.edu/index5.php  \n",
       "1   created 5-29-2013   •   20 days 4 hours 59 mins   •   2064 visits, 1348 clicks  \n",
       "2                                                                              NaN  \n",
       "3                                                                              NaN  \n",
       "4                                                                              NaN  \n",
       "5                                                                              NaN  \n",
       "6                                                                              NaN  \n",
       "7                                                                              NaN  \n",
       "8                                                                              NaN  \n",
       "9                                                                              NaN  \n",
       "10                                                                             NaN  \n",
       "11                                                                             NaN  \n",
       "12                                                                             NaN  \n",
       "13                                                                             NaN  \n",
       "14                                                                             NaN  \n",
       "15                                                                             NaN  \n",
       "16                                                                             NaN  \n",
       "17                                                                             NaN  \n",
       "18                                                                             NaN  \n",
       "19                                                                             NaN  "
      ]
     },
     "execution_count": 3,
     "metadata": {},
     "output_type": "execute_result"
    }
   ],
   "source": [
    "v5.head(20)"
   ]
  },
  {
   "cell_type": "code",
   "execution_count": 4,
   "metadata": {
    "id": "txdlmRB90K7O"
   },
   "outputs": [],
   "source": [
    "# first we get the visits on each page (they are in the last column of the second row, we read them manually)\n",
    "v1_visits = 10283\n",
    "v2_visits = 2742\n",
    "v3_visits = 2747\n",
    "v4_visits = 3180\n",
    "v5_visits = 2064"
   ]
  },
  {
   "cell_type": "code",
   "execution_count": 5,
   "metadata": {
    "colab": {
     "base_uri": "https://localhost:8080/"
    },
    "id": "DEFls4QVGodf",
    "outputId": "de752121-218a-40d3-96b1-5cc9385e4c07"
   },
   "outputs": [
    {
     "data": {
      "text/plain": [
       "[10283, 2742, 2747, 3180, 2064]"
      ]
     },
     "execution_count": 5,
     "metadata": {},
     "output_type": "execute_result"
    }
   ],
   "source": [
    "# make a list of the page visits for each version\n",
    "visits_list = [v1_visits, v2_visits, v3_visits, v4_visits, v5_visits]\n",
    "visits_list"
   ]
  },
  {
   "cell_type": "code",
   "execution_count": 6,
   "metadata": {
    "colab": {
     "base_uri": "https://localhost:8080/"
    },
    "id": "qygOgsNGGbpj",
    "outputId": "61f4a2d8-1539-4e05-f9e9-cf3d9242e6a6"
   },
   "outputs": [
    {
     "data": {
      "text/plain": [
       "[21]"
      ]
     },
     "execution_count": 6,
     "metadata": {},
     "output_type": "execute_result"
    }
   ],
   "source": [
    "# then we get the clicks for each version. We know the names for the different versions of the tested buttons \n",
    "# from the use case. Different labels are tested: INTERACT, CONNECT, LEARN, HELP and SERVICES\n",
    "\n",
    "v1_clicks = list(v1[v1['Name'] == 'INTERACT']['No. clicks'])# we filter for only the rows that contain the specified \n",
    "#name of the butten and then we filter for the column that shows us the number of clicks\n",
    "v2_clicks = list(v2[v2['Name'] == 'CONNECT']['No. clicks'])\n",
    "v3_clicks = list(v3[v3['Name'] == 'LEARN']['No. clicks'])\n",
    "v4_clicks = list(v4[v4['Name'] == 'HELP']['No. clicks'])\n",
    "v5_clicks = list(v5[v5['Name'] == 'SERVICES']['No. clicks'])\n",
    "v3_clicks"
   ]
  },
  {
   "cell_type": "code",
   "execution_count": 7,
   "metadata": {
    "colab": {
     "base_uri": "https://localhost:8080/"
    },
    "id": "WRrGD4wg9Kr4",
    "outputId": "93476042-d5b5-44bb-d4e0-e7379380833b"
   },
   "outputs": [
    {
     "data": {
      "text/plain": [
       "[[42], [53], [21], [38], [45]]"
      ]
     },
     "execution_count": 7,
     "metadata": {},
     "output_type": "execute_result"
    }
   ],
   "source": [
    "# make a list out of the clicks \n",
    "clicks_list = [v1_clicks, v2_clicks, v3_clicks, v4_clicks, v5_clicks]\n",
    "clicks_list"
   ]
  },
  {
   "cell_type": "code",
   "execution_count": 8,
   "metadata": {
    "id": "L0-OSnAL9XcD"
   },
   "outputs": [],
   "source": [
    "# flatten the nested list\n",
    "clicks_list = [element for sublist in clicks_list for element in sublist]"
   ]
  },
  {
   "cell_type": "code",
   "execution_count": 9,
   "metadata": {},
   "outputs": [
    {
     "data": {
      "text/plain": [
       "[42, 53, 21, 38, 45]"
      ]
     },
     "execution_count": 9,
     "metadata": {},
     "output_type": "execute_result"
    }
   ],
   "source": [
    "clicks_list"
   ]
  },
  {
   "cell_type": "code",
   "execution_count": 10,
   "metadata": {
    "colab": {
     "base_uri": "https://localhost:8080/"
    },
    "id": "myEUbsNn-0vZ",
    "outputId": "f661052e-68c2-49ee-f182-3337cb1b8810"
   },
   "outputs": [
    {
     "data": {
      "text/plain": [
       "[10241, 2689, 2726, 3142, 2019]"
      ]
     },
     "execution_count": 10,
     "metadata": {},
     "output_type": "execute_result"
    }
   ],
   "source": [
    "# get a list of the number of times the visitors have not clicked on the buttons\n",
    "noclick_list = list()\n",
    "for item1, item2 in zip(visits_list, clicks_list): # we zip together the lists and iterate over the the items of each list parralely\n",
    "  noclick_list.append(item1 - item2) # for each pair of the zipped lists we do the operation item1-item2 and append the resuöt to noclick list\n",
    "\n",
    "noclick_list"
   ]
  },
  {
   "cell_type": "code",
   "execution_count": 11,
   "metadata": {
    "colab": {
     "base_uri": "https://localhost:8080/"
    },
    "id": "VbYT7svWGWId",
    "outputId": "da9a1eb9-6948-4fdf-ab58-3c3105bd3a9f"
   },
   "outputs": [
    {
     "data": {
      "text/plain": [
       "0.022288261515601784"
      ]
     },
     "execution_count": 11,
     "metadata": {},
     "output_type": "execute_result"
    }
   ],
   "source": [
    "# we get the click through rate for each version \n",
    "v1_CTR = v1_clicks[0] / noclick_list[0]\n",
    "v2_CTR = v2_clicks[0] / noclick_list[1]\n",
    "v3_CTR = v3_clicks[0] / noclick_list[2]\n",
    "v4_CTR = v4_clicks[0] / noclick_list[3]\n",
    "v5_CTR = v5_clicks[0] / noclick_list[4]\n",
    "v5_CTR"
   ]
  },
  {
   "cell_type": "code",
   "execution_count": 12,
   "metadata": {
    "colab": {
     "base_uri": "https://localhost:8080/"
    },
    "id": "G3D284A7FqMD",
    "outputId": "cd746013-cdc5-4e2d-a17a-7072080de0f1"
   },
   "outputs": [
    {
     "data": {
      "text/plain": [
       "[0.004101161995898838,\n",
       " 0.019709929341762737,\n",
       " 0.007703595011005136,\n",
       " 0.0120942075111394,\n",
       " 0.022288261515601784]"
      ]
     },
     "execution_count": 12,
     "metadata": {},
     "output_type": "execute_result"
    }
   ],
   "source": [
    "# and put them in a list\n",
    "CTR_list = [v1_CTR, v2_CTR, v3_CTR, v4_CTR, v5_CTR]\n",
    "CTR_list"
   ]
  },
  {
   "cell_type": "code",
   "execution_count": 13,
   "metadata": {
    "colab": {
     "base_uri": "https://localhost:8080/",
     "height": 206
    },
    "id": "R-qPyx64Aoeh",
    "outputId": "c37aed02-924f-4bb3-85c9-f68d1063276e"
   },
   "outputs": [
    {
     "data": {
      "text/html": [
       "<div>\n",
       "<style scoped>\n",
       "    .dataframe tbody tr th:only-of-type {\n",
       "        vertical-align: middle;\n",
       "    }\n",
       "\n",
       "    .dataframe tbody tr th {\n",
       "        vertical-align: top;\n",
       "    }\n",
       "\n",
       "    .dataframe thead th {\n",
       "        text-align: right;\n",
       "    }\n",
       "</style>\n",
       "<table border=\"1\" class=\"dataframe\">\n",
       "  <thead>\n",
       "    <tr style=\"text-align: right;\">\n",
       "      <th></th>\n",
       "      <th>rates</th>\n",
       "      <th>names</th>\n",
       "    </tr>\n",
       "  </thead>\n",
       "  <tbody>\n",
       "    <tr>\n",
       "      <th>0</th>\n",
       "      <td>0.004101</td>\n",
       "      <td>Interact</td>\n",
       "    </tr>\n",
       "    <tr>\n",
       "      <th>2</th>\n",
       "      <td>0.007704</td>\n",
       "      <td>Learn</td>\n",
       "    </tr>\n",
       "    <tr>\n",
       "      <th>3</th>\n",
       "      <td>0.012094</td>\n",
       "      <td>Help</td>\n",
       "    </tr>\n",
       "    <tr>\n",
       "      <th>1</th>\n",
       "      <td>0.019710</td>\n",
       "      <td>Connect</td>\n",
       "    </tr>\n",
       "    <tr>\n",
       "      <th>4</th>\n",
       "      <td>0.022288</td>\n",
       "      <td>Services</td>\n",
       "    </tr>\n",
       "  </tbody>\n",
       "</table>\n",
       "</div>"
      ],
      "text/plain": [
       "      rates     names\n",
       "0  0.004101  Interact\n",
       "2  0.007704     Learn\n",
       "3  0.012094      Help\n",
       "1  0.019710   Connect\n",
       "4  0.022288  Services"
      ]
     },
     "execution_count": 13,
     "metadata": {},
     "output_type": "execute_result"
    }
   ],
   "source": [
    "# we make a pandas dataframe wit the CTR for each version\n",
    "rates = pd.Series(CTR_list)\n",
    "names = pd.Series([\"Interact\", \"Connect\", \"Learn\", \"Help\", \"Services\"])\n",
    "ctr_df = pd.DataFrame({\"rates\":rates, \"names\":names}).sort_values(\"rates\")\n",
    "ctr_df.sort_values(\"rates\", ascending=False)\n",
    "ctr_df"
   ]
  },
  {
   "cell_type": "code",
   "execution_count": 14,
   "metadata": {
    "id": "pbVD5gPk5Zcz"
   },
   "outputs": [
    {
     "data": {
      "text/html": [
       "<div>\n",
       "<style scoped>\n",
       "    .dataframe tbody tr th:only-of-type {\n",
       "        vertical-align: middle;\n",
       "    }\n",
       "\n",
       "    .dataframe tbody tr th {\n",
       "        vertical-align: top;\n",
       "    }\n",
       "\n",
       "    .dataframe thead th {\n",
       "        text-align: right;\n",
       "    }\n",
       "</style>\n",
       "<table border=\"1\" class=\"dataframe\">\n",
       "  <thead>\n",
       "    <tr style=\"text-align: right;\">\n",
       "      <th></th>\n",
       "      <th>INTERACT</th>\n",
       "      <th>CONNECT</th>\n",
       "      <th>LEARN</th>\n",
       "      <th>HELP</th>\n",
       "      <th>SERVICES</th>\n",
       "    </tr>\n",
       "  </thead>\n",
       "  <tbody>\n",
       "    <tr>\n",
       "      <th>clicks</th>\n",
       "      <td>42</td>\n",
       "      <td>53</td>\n",
       "      <td>21</td>\n",
       "      <td>38</td>\n",
       "      <td>45</td>\n",
       "    </tr>\n",
       "    <tr>\n",
       "      <th>no clicks</th>\n",
       "      <td>10241</td>\n",
       "      <td>2689</td>\n",
       "      <td>2726</td>\n",
       "      <td>3142</td>\n",
       "      <td>2019</td>\n",
       "    </tr>\n",
       "  </tbody>\n",
       "</table>\n",
       "</div>"
      ],
      "text/plain": [
       "           INTERACT  CONNECT  LEARN  HELP  SERVICES\n",
       "clicks           42       53     21    38        45\n",
       "no clicks     10241     2689   2726  3142      2019"
      ]
     },
     "execution_count": 14,
     "metadata": {},
     "output_type": "execute_result"
    }
   ],
   "source": [
    "# make contingency table for observed results\n",
    "observed_3 = pd.DataFrame([clicks_list, noclick_list],\n",
    "                           columns = [\"INTERACT\", \"CONNECT\", \"LEARN\", \"HELP\", \"SERVICES\"],\n",
    "                           index = [\"clicks\", \"no clicks\"]\n",
    "                            )\n",
    "observed_3"
   ]
  },
  {
   "cell_type": "markdown",
   "metadata": {},
   "source": [
    "--> It seems like **Services** is the winner and **Interact** is the button with the worst Click rate.\n",
    "--> But we're not at the end here. We have to check for statistical significance of this result, meaning: How big is the chance that we got this differences between click rates for each button only due to chance. \n",
    "\n",
    "So we have to test for statistical significance. We do the following. \n",
    "1. We test for differences between all of the versions\n",
    "2. If the differences are statistically significant we drop the worst version and perform the again a chi-square test\n",
    "3. Until we reach a winner or we get the result, that there is no significant difference between the click rates. "
   ]
  },
  {
   "cell_type": "markdown",
   "metadata": {
    "id": "wbINvJ4KFBID"
   },
   "source": [
    "Null Hypothesis: **Interact, Connect, Learn, Help, Services** have the same ratio of clicks and no-clicks values\n",
    "\n",
    "Alternative Hypthesis: **Interact, Connect, Learn, Help, Services** do not have the same ratio of clicks and no-clicks\n",
    "\n",
    "Significance level: **95%** or 0.95\n",
    "\n",
    "Alpha: 1 - 0.95 = 0.05\n",
    "\n",
    "To reject the Null Hypothesis p-value needs to be less or equal to alpha (p-value  <= 0.05)"
   ]
  },
  {
   "cell_type": "code",
   "execution_count": 15,
   "metadata": {
    "colab": {
     "base_uri": "https://localhost:8080/"
    },
    "id": "0nj5E2TY8CcQ",
    "outputId": "337e0387-fb1e-4163-b0d2-81615179bf98"
   },
   "outputs": [
    {
     "data": {
      "text/plain": [
       "4.852334301093838e-20"
      ]
     },
     "execution_count": 15,
     "metadata": {},
     "output_type": "execute_result"
    }
   ],
   "source": [
    "# we load stats from scipy and calculate che pvalue for the chisquare test, which tells us if we can reject \n",
    "# Null-Hypothesis\n",
    "from scipy import stats\n",
    "chisq, pvalue, df, expected = stats.chi2_contingency(observed_3)\n",
    "pvalue"
   ]
  },
  {
   "cell_type": "code",
   "execution_count": 16,
   "metadata": {
    "colab": {
     "base_uri": "https://localhost:8080/"
    },
    "id": "PkDiQ2aKFNtq",
    "outputId": "460c13a4-8d9b-4044-8dc8-30c1aa728da2"
   },
   "outputs": [
    {
     "name": "stdout",
     "output_type": "stream",
     "text": [
      "True\n"
     ]
    }
   ],
   "source": [
    "print(pvalue <= 0.05)"
   ]
  },
  {
   "cell_type": "code",
   "execution_count": 17,
   "metadata": {
    "id": "8kzlesHYHXC8"
   },
   "outputs": [],
   "source": [
    "# we put the whole proces of finding the winner into a function which performs the chi-square test and then drops the loser\n",
    "# until a winner is found or there are no more statistical differences between the tested versions\n",
    "def a_b_algo (dataframe, no_columns): # dataframe for contingency table has to be sorted from loser to winner \n",
    "# I still have to optimize the function to first sort the dataframe from loser to winner\n",
    "  dataframe_new = dataframe.copy()\n",
    "  for x in range(no_columns-1): \n",
    "    chisq, pvalue, df, expected = stats.chi2_contingency(dataframe_new)\n",
    "    print(dataframe_new)\n",
    "    if float(pvalue < 0.01): \n",
    "      print(pvalue)\n",
    "      #ctr_df = ctr_df.iloc[1: , :]\n",
    "      dataframe_new.drop(columns=dataframe_new.columns[0], axis=1, inplace=True)\n",
    "    else:  \n",
    "      print(\"Null Hypothesis can't be rejected\")"
   ]
  },
  {
   "cell_type": "code",
   "execution_count": 18,
   "metadata": {
    "colab": {
     "base_uri": "https://localhost:8080/"
    },
    "id": "aZj09L3bFjX8",
    "outputId": "b1d4fd79-536e-40b9-8faf-194ffe8b48d9"
   },
   "outputs": [
    {
     "name": "stdout",
     "output_type": "stream",
     "text": [
      "           INTERACT  CONNECT  LEARN  HELP  SERVICES\n",
      "clicks           42       53     21    38        45\n",
      "no clicks     10241     2689   2726  3142      2019\n",
      "4.852334301093838e-20\n",
      "           CONNECT  LEARN  HELP  SERVICES\n",
      "clicks          53     21    38        45\n",
      "no clicks     2689   2726  3142      2019\n",
      "5.25509870228566e-05\n",
      "           LEARN  HELP  SERVICES\n",
      "clicks        21    38        45\n",
      "no clicks   2726  3142      2019\n",
      "8.044453904790285e-05\n",
      "           HELP  SERVICES\n",
      "clicks       38        45\n",
      "no clicks  3142      2019\n",
      "0.007370912499282061\n"
     ]
    }
   ],
   "source": [
    "a_b_algo(observed_3, 5)"
   ]
  },
  {
   "cell_type": "markdown",
   "metadata": {},
   "source": [
    "## **Result:** \n",
    "We have a clear winner with the **Services** Button. It performs even better than the second best version **Help**. The chance that the differences in CTR between Services and Help is only due to chance is less than one percent. So we can definitely reject the Null-Hypothesis. "
   ]
  }
 ],
 "metadata": {
  "colab": {
   "provenance": []
  },
  "kernelspec": {
   "display_name": "Python 3 (ipykernel)",
   "language": "python",
   "name": "python3"
  },
  "language_info": {
   "codemirror_mode": {
    "name": "ipython",
    "version": 3
   },
   "file_extension": ".py",
   "mimetype": "text/x-python",
   "name": "python",
   "nbconvert_exporter": "python",
   "pygments_lexer": "ipython3",
   "version": "3.9.13"
  }
 },
 "nbformat": 4,
 "nbformat_minor": 1
}
